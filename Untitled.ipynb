{
 "cells": [
  {
   "cell_type": "code",
   "execution_count": 3,
   "id": "a2e66002",
   "metadata": {},
   "outputs": [
    {
     "name": "stdout",
     "output_type": "stream",
     "text": [
      "The autoreload extension is already loaded. To reload it, use:\n",
      "  %reload_ext autoreload\n"
     ]
    }
   ],
   "source": [
    "import gym\n",
    "import tensorflow as tf \n",
    "import numpy as np \n",
    "from tensorflow.keras import Sequential \n",
    "from tensorflow.keras.layers import Dense , Input \n",
    "from tensorflow.keras.losses import MSE \n",
    "from tensorflow.keras.optimizers import Adam \n",
    "%load_ext autoreload \n",
    "%autoreload 2 "
   ]
  },
  {
   "cell_type": "code",
   "execution_count": 5,
   "id": "446283bf",
   "metadata": {},
   "outputs": [],
   "source": [
    "env = gym.make(\"LunarLander-v2\")"
   ]
  },
  {
   "cell_type": "code",
   "execution_count": 6,
   "id": "7f9d9953",
   "metadata": {},
   "outputs": [],
   "source": [
    "state_size = env.observation_space.shape\n",
    "num_actions = env.action_space.n "
   ]
  },
  {
   "cell_type": "code",
   "execution_count": 8,
   "id": "a0212541",
   "metadata": {},
   "outputs": [],
   "source": [
    "q_network = Sequential([\n",
    "    \n",
    "    Input(state_size) , \n",
    "    Dense(64 , activation=\"relu\") , \n",
    "    Dense(64 , activation=\"relu\") , \n",
    "    Dense(num_actions  , activation=\"linear\") , \n",
    "]) ; \n",
    "target_q_network = Sequential([\n",
    "    \n",
    "    Input(state_size) , \n",
    "    Dense(64 , activation=\"relu\") , \n",
    "    Dense(64 , activation=\"relu\") , \n",
    "    Dense(num_actions  , activation=\"linear\") , \n",
    "    \n",
    "]) ;"
   ]
  },
  {
   "cell_type": "code",
   "execution_count": 9,
   "id": "ca18d3d0",
   "metadata": {},
   "outputs": [
    {
     "data": {
      "text/plain": [
       "array([-0.00593071,  1.407348  , -0.600733  , -0.15877523,  0.006879  ,\n",
       "        0.13607486,  0.        ,  0.        ], dtype=float32)"
      ]
     },
     "execution_count": 9,
     "metadata": {},
     "output_type": "execute_result"
    }
   ],
   "source": [
    "env.reset()"
   ]
  },
  {
   "cell_type": "code",
   "execution_count": null,
   "id": "5085a1bc",
   "metadata": {},
   "outputs": [],
   "source": []
  }
 ],
 "metadata": {
  "kernelspec": {
   "display_name": "Python 3 (ipykernel)",
   "language": "python",
   "name": "python3"
  },
  "language_info": {
   "codemirror_mode": {
    "name": "ipython",
    "version": 3
   },
   "file_extension": ".py",
   "mimetype": "text/x-python",
   "name": "python",
   "nbconvert_exporter": "python",
   "pygments_lexer": "ipython3",
   "version": "3.8.8"
  }
 },
 "nbformat": 4,
 "nbformat_minor": 5
}
