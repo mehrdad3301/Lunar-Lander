{
 "cells": [
  {
   "cell_type": "code",
   "execution_count": 1,
   "id": "a2e66002",
   "metadata": {},
   "outputs": [
    {
     "name": "stderr",
     "output_type": "stream",
     "text": [
      "/home/moxitron/anaconda3/lib/python3.8/site-packages/scipy/__init__.py:138: UserWarning: A NumPy version >=1.16.5 and <1.23.0 is required for this version of SciPy (detected version 1.23.3)\n",
      "  warnings.warn(f\"A NumPy version >={np_minversion} and <{np_maxversion} is required for this version of \"\n"
     ]
    }
   ],
   "source": [
    "from collections import deque , namedtuple \n",
    "import gym\n",
    "import tensorflow as tf \n",
    "import numpy as np \n",
    "from tensorflow.keras import Sequential \n",
    "from tensorflow.keras.layers import Dense , Input \n",
    "from tensorflow.keras.losses import MSE \n",
    "from tensorflow.keras.optimizers import Adam \n",
    "%load_ext autoreload \n",
    "%autoreload 2 "
   ]
  },
  {
   "cell_type": "code",
   "execution_count": 2,
   "id": "ef937f9e",
   "metadata": {},
   "outputs": [],
   "source": [
    "######### CONSTANTS ###########\n",
    "MEM_SIZE = 100_000         #size of the memory buffer\n",
    "GAMMA = 0.995              #discount factor\n",
    "ALPHA = 1e-3               #learning rate\n",
    "NUM_STEPS_PER_UPDATE = 4   #perform update every C timesteps "
   ]
  },
  {
   "cell_type": "code",
   "execution_count": 3,
   "id": "446283bf",
   "metadata": {},
   "outputs": [],
   "source": [
    "env = gym.make(\"LunarLander-v2\")"
   ]
  },
  {
   "cell_type": "code",
   "execution_count": 4,
   "id": "7f9d9953",
   "metadata": {},
   "outputs": [],
   "source": [
    "state_size = env.observation_space.shape\n",
    "num_actions = env.action_space.n "
   ]
  },
  {
   "cell_type": "code",
   "execution_count": 6,
   "id": "a0212541",
   "metadata": {},
   "outputs": [],
   "source": [
    "q_network = Sequential([\n",
    "    \n",
    "    Input(state_size) , \n",
    "    Dense(64 , activation=\"relu\") , \n",
    "    Dense(64 , activation=\"relu\") , \n",
    "    Dense(num_actions  , activation=\"linear\") , \n",
    "]) ; \n",
    "target_q_network = Sequential([\n",
    "    \n",
    "    Input(state_size) , \n",
    "    Dense(64 , activation=\"relu\") , \n",
    "    Dense(64 , activation=\"relu\") , \n",
    "    Dense(num_actions  , activation=\"linear\") , \n",
    "    \n",
    "]) ;\n",
    "optimizer = Adam(learning_rate=ALPHA);"
   ]
  },
  {
   "cell_type": "code",
   "execution_count": 7,
   "id": "ca18d3d0",
   "metadata": {},
   "outputs": [
    {
     "data": {
      "text/plain": [
       "array([ 0.00359144,  1.4064169 ,  0.3637501 , -0.20014745, -0.00415469,\n",
       "       -0.0823947 ,  0.        ,  0.        ], dtype=float32)"
      ]
     },
     "execution_count": 7,
     "metadata": {},
     "output_type": "execute_result"
    }
   ],
   "source": [
    "def compute_cost(expriences , gamma , q_network , target_q_network) :  \n",
    "    \"\"\"\n",
    "    Returns cost using MSE function. \n",
    "    ------------------------------------\n",
    "    Parameters : \n",
    "    \n",
    "        expriences : list of namedtuples\n",
    "            names are [\"state\", \"action\", \"reward\", \"next_state\", \"done\"]. \n",
    "        \n",
    "        gamma : floating point \n",
    "            learning rate to use in Bellman Equations. \n",
    "        \n",
    "        q_network : Keras Sequential model \n",
    "            network computing Q(s,a). \n",
    "        \n",
    "        target_q_network : Keras Sequential model \n",
    "            network computing Q^(s,a). \n",
    "    \"\"\"\n",
    "    \n",
    "    "
   ]
  },
  {
   "cell_type": "code",
   "execution_count": null,
   "id": "5085a1bc",
   "metadata": {},
   "outputs": [],
   "source": []
  }
 ],
 "metadata": {
  "kernelspec": {
   "display_name": "Python 3 (ipykernel)",
   "language": "python",
   "name": "python3"
  },
  "language_info": {
   "codemirror_mode": {
    "name": "ipython",
    "version": 3
   },
   "file_extension": ".py",
   "mimetype": "text/x-python",
   "name": "python",
   "nbconvert_exporter": "python",
   "pygments_lexer": "ipython3",
   "version": "3.8.8"
  }
 },
 "nbformat": 4,
 "nbformat_minor": 5
}
